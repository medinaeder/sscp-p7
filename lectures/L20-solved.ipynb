{
 "cells": [
  {
   "cell_type": "markdown",
   "metadata": {},
   "source": [
    "# Inflation of an simplified left ventricle\n",
    "\n",
    "**Notebook prepared by \n",
    "\n",
    "Joakim Sundnes**\n",
    "\n",
    "Date: **July 1, 2021**\n",
    "\n",
    "\n",
    "## Model outline\n",
    "We will now increase the realism slightly, and consider the classic ellipsoid approximation of the left ventricle (LV). We will use the Guccione material model introduced previously, and the additional complexity is mainly in the geometry and that fiber orientation is not constant.\n",
    "\n",
    "We will look at two simple cases:\n",
    "* Passive inflation: the ellipsoidal LV is simply inflated, by ramping up the endocardial pressure.\n",
    "* Active contraction: the LV contracts against a constant endocardial pressure.\n",
    "\n",
    "As above, the mathematic problem to be solved is a quasi-static hyper-elasticity problem, with a combination of Dirichlet and Neumann boundary conditions:\n",
    "$$\n",
    " \\begin{alignat*}{2}\n",
    "    - \\nabla\\cdot P &= 0 && \\quad \\text{ in } \\Omega \\\\\n",
    "    u &= 0 && \\quad \\text{ on } \\Gamma_{\\mathrm{D}} \\\\\n",
    "    P \\cdot n &= T && \\quad \\text{ on } \\Gamma_{\\mathrm{N}} \\\\\n",
    "    P \\cdot n &= 0 && \\quad \\text{ on } \\Gamma_{\\mathrm{0}}\n",
    "  \\end{alignat*}\n",
    "$$\n",
    "As above, $P$ is the first Piola-Kirchhoff stress tensor, $u$ is the displacement, $T$ is a load applied to parts of the boundary, and $\\Omega, \\Gamma_{\\mathrm{D}}, \\Gamma_{\\mathrm{N}},\\Gamma_{\\mathrm{0}}$ are the domain and the boundaries for Dirichlet- and Neumann boundary conditions, respectively. The domain is a truncated ellipsoid as shown here:"
   ]
  },
  {
   "cell_type": "code",
   "execution_count": 21,
   "metadata": {},
   "outputs": [],
   "source": [
    "from fenics import *\n",
    "import matplotlib.pyplot as plt\n",
    "\n",
    "mesh = Mesh(MPI.comm_world, \"data/mesh.xml\")\n"
   ]
  },
  {
   "cell_type": "markdown",
   "metadata": {},
   "source": [
    "The mesh is very coarse, to minimize the compute time, and therefore looks edgy and non-smooth. For simplicity, we will hold the base of the LV fixed in all directions, the epicardial surface is unloaded, while a time-varying pressure is applied to the endocardial surface.\n",
    "\n",
    "As above, we derive the weak form to apply the finite element method. Multipling with a test function   $v \\in \\hat{V}$, integrating by parts and applying the boundary conditions leads to the problem:\n",
    "\n",
    "Find $u \\in V$ such that\n",
    "$$\n",
    "\\begin{equation*}\n",
    "    \\int_{\\Omega} P : \\nabla v dx\n",
    "    = \\int_{\\Gamma_{\\mathrm{N}}} T \\cdot v ds\n",
    "  \\end{equation*}\n",
    "$$\n",
    "\n",
    "We are now ready to set up our Fenics solver. In addition to the standard imports and settings, it will be useful to define a couple of helper function to handle the pre- and post-processing. The function 'load_ellipsoid_data' reads the goemetry and fiber information from a set of files, and returns a dolfin mesh and a list of functions defining the boundary markers and fiber orientation:"
   ]
  },
  {
   "cell_type": "code",
   "execution_count": 22,
   "metadata": {},
   "outputs": [],
   "source": [
    "import matplotlib.pyplot as plt\n",
    "import numpy as np\n",
    "from fenics import *\n",
    "from guccionematerial import *\n",
    "\n",
    "parameters[\"form_compiler\"][\"quadrature_degree\"] = 4\n",
    "parameters[\"form_compiler\"][\"cpp_optimize\"] = True\n",
    "\n",
    "\n",
    "def load_ellipsoid_data():\n",
    "    \"\"\"Returns 4-tuple:\n",
    "    mesh - the mesh, \n",
    "    mf - MeshFunction defining boundary markers, \n",
    "    numbering - dict of marking numbers,\n",
    "    fibers - list of functions defining microstructure\"\"\"\n",
    "  \n",
    "    mesh = Mesh(MPI.comm_world, \"data/mesh.xml\")\n",
    "    mf = MeshFunction(\"size_t\", mesh, \"data/facet_function.xml\")\n",
    "\n",
    "    numbering = {\n",
    "        \"BASE\": 10,\n",
    "        \"ENDO\": 30,\n",
    "        \"EPI\": 40\n",
    "    }\n",
    "\n",
    "    # load fibers, sheet, cross_sheet data \n",
    "    fiber_element = VectorElement(family=\"Quadrature\",\n",
    "                                     cell=mesh.ufl_cell(),\n",
    "                                     degree=4,\n",
    "                                     quad_scheme=\"default\")\n",
    "    fiber_space = FunctionSpace(mesh, fiber_element)\n",
    "    fiber = Function(fiber_space, \"data/fiber.xml\")\n",
    "    sheet = Function(fiber_space, \"data/sheet.xml\")\n",
    "    cross_sheet = Function(fiber_space, \"data/cross_sheet.xml\")\n",
    "\n",
    "    fibers = [fiber,sheet, cross_sheet]\n",
    "    \n",
    "    return mesh, mf, numbering, fibers\n",
    "\n"
   ]
  },
  {
   "cell_type": "markdown",
   "metadata": {},
   "source": [
    "When doing mechanics simulations of the entire LV, it is interesting to look at the variations in cavity volume, to plot PV loops etc. For computing the cavity volume, we apply a small mathematical trick to turn a volume integral into a surface integral:\n",
    "$$\n",
    "V = \\int_{cavity} 1 dx = -1/3\\int_{\\Gamma_N} x\\cdot n ds ,\n",
    "$$\n",
    "where $x$ is the coordinate of the *deformed* surface, and $n$ is the deformed surface normal. With a Lagrangian approach we map everything to the reference configuration, and define the problem in terms of the displacement $u$, to get the following Fenics code:"
   ]
  },
  {
   "cell_type": "code",
   "execution_count": 23,
   "metadata": {},
   "outputs": [],
   "source": [
    "def compute_cavity_volume(mesh,mf, numbering,u=None):\n",
    "    X = SpatialCoordinate(mesh) \n",
    "    N = FacetNormal(mesh)\n",
    "\n",
    "    if u is not None:\n",
    "        I = Identity(3) # the identity matrix\n",
    "        F = I + grad(u) # the deformation gradient\n",
    "        J = det(F)\n",
    "        vol_form = (-1.0/3.0) * dot(X + u, J * inv(F).T * N)\n",
    "    else:\n",
    "        vol_form = (-1.0/3.0) * dot(X, N)\n",
    "\n",
    "\n",
    "    ds = Measure('ds',domain=mesh,subdomain_data=mf)\n",
    "\n",
    "    return assemble(vol_form*ds(numbering[\"ENDO\"]))"
   ]
  },
  {
   "cell_type": "markdown",
   "metadata": {},
   "source": [
    "The input to the function is a dolfin mesh, a MeshFunction defining the boundary markers, a dictionary containing the names of the boundary markers, and an optional displacement $u$. The function assumes that the endocardial surface is marked with boundary marker \"ENDO\". "
   ]
  },
  {
   "cell_type": "markdown",
   "metadata": {},
   "source": [
    "Having these two functions in place, the rest of the code is very similar to the unit cube problems considered previously. In fact, most of the additional complexity of working with an ellipsoid and non-constant fiber fields is handled in the 'load_ellipsoid_geometry' function. Once this function has been called to set up the boundary markers and fiber fields, the rest of the problem definition looks very familiar:"
   ]
  },
  {
   "cell_type": "code",
   "execution_count": 24,
   "metadata": {},
   "outputs": [],
   "source": [
    "mesh, boundary_markers, numbering, fibers = load_ellipsoid_data()\n",
    "\n",
    "V = VectorFunctionSpace(mesh,'P',1)\n",
    "\n",
    "# Redefine boundary measure, to allow integration over parts of boundary\n",
    "ds = Measure('ds',domain=mesh,subdomain_data=boundary_markers)\n",
    "\n",
    "clamp = Constant((0.0, 0.0, 0.0))\n",
    "bc = DirichletBC(V, clamp, boundary_markers, numbering[\"BASE\"])\n",
    "bcs = [bc]\n",
    "\n",
    "# Define solution u and test function v\n",
    "u = Function(V)\n",
    "v = TestFunction(V)\n",
    "\n",
    "# Define strain measures\n",
    "I = Identity(3) # the identity matrix\n",
    "F = I + grad(u) # the deformation gradient\n",
    "F = variable(F)\n",
    "\n",
    "mat = GuccioneMaterial(e1=fibers[0],e2=fibers[1],e3=fibers[2],kappa=1e3,Tactive=0.0)\n",
    "\n",
    "psi = mat.strain_energy(F)\n",
    "P = diff(psi,F)        # the first Piola-Kirchoff stress tensor\n",
    "\n",
    "p_endo = Constant(0.0)\n",
    "\n",
    "# Define nonlinear problem\n",
    "N = FacetNormal(mesh)\n",
    "Gext = p_endo * inner(v, det(F)*inv(F)*N) * ds(numbering[\"ENDO\"]) #endocardial pressure\n",
    "R = inner(P,grad(v))*dx + Gext "
   ]
  },
  {
   "cell_type": "code",
   "execution_count": 25,
   "metadata": {},
   "outputs": [
    {
     "data": {
      "image/png": "[encoded data removed]",
      "text/plain": [
       "<Figure size 432x288 with 1 Axes>"
      ]
     },
     "metadata": {
      "needs_background": "light"
     },
     "output_type": "display_data"
    }
   ],
   "source": [
    "# Step-wise loading \n",
    "pressure_steps = 20\n",
    "target_pressure = 10.0\n",
    "\n",
    "# Loop over load steps:\n",
    "pressures = np.linspace(0,target_pressure,pressure_steps)\n",
    "volumes = np.zeros_like(pressures)\n",
    "for step in range(pressure_steps):\n",
    "    p_endo.assign(pressures[step])\n",
    "    solve(R == 0, u, bcs)\n",
    "    # Compute and store volume for each step:\n",
    "    volumes[step] = compute_cavity_volume(mesh,boundary_markers,numbering,u)\n",
    "\n",
    "plt.figure(1)\n",
    "plt.plot(volumes,pressures)\n",
    "plt.xlabel('Volume')\n",
    "plt.ylabel('Pressure')\n",
    "\n",
    "plt.show()"
   ]
  },
  {
   "cell_type": "markdown",
   "metadata": {},
   "source": [
    "The top figure shows the pressure-volume relation, with volume on the horizontal and pressure on the vertical axis. This order of plotting may seem a bit unusual since pressure is the input to our problem and volume the output, but it is the most common way to visualize pressure-volume data for the heart. The lower figure shows the inflated LV geometry compared with the original geometry. \n",
    "\n",
    "### Adding active contraction\n",
    "The final step is to add active contraction in our ellipsoid problem. As we saw in the unit cube examples, the GuccioneMaterial class includes functionality for active stress. While simply ramping up the pressure worked is a reasonably realistic approximation of the filling phase of the cardiac cycle, proper simulation of the complete cardiac cycle requires far more complex boundary conditions. For a full cardiac cycle, the pressure volume relation (PV loop) looks as follows:\n",
    "<img src=\"figs/pv_loop.png\" width=400>\n",
    "\n",
    "This loop has four characteristic phases, with different hemodynamic boundary conditions:\n",
    "* The filling phase, where pressure and volume both increase. This is the phase we modeled above, by simply ramping up the endocardial pressure. In a real LV, the mitral valve is open during this phase, while the aortic valve is closed. \n",
    "* As the ventricle starts contracting, the LV pressure becomes higher than the pressure in the pulmonary veins, which causes the mitral valve to close. This marks the end of diastole (ED). The heart enters the *isovolumic contraction* phase, where the pressure increases while the volume stays constant since both valves are closed. In a heart mechanics model, realistic boundary conditions would require solving a non-linear equation to find the cavity pressure that keeps the volume constant as active stress increases.\n",
    "* At some point the LV pressure will exceed the aortic pressure, and the aortic valve opens and allows blood to be ejected into the systemc circulation. This is the *ejection phase*, and the endocardial pressure will be determined by the contractile force and the compliance and resistance of the systemic circulation. The typical boundary condition to use for this phase is a so-called Windkessel model.\n",
    "* Finally, as the pressure in the LV starts to drop, the aortic valve closes and the heart enters the *isovolumic relaxation* phase. This is the end-systolic (ES) point. In terms of boundary conditions this phase is identicl to isovolumic contraction.\n",
    "\n",
    "One can define relatively simple models that give a reasonably realistic representation of the four phases above. However, in this course we will keep things even simpler, and simply let our LV contract against a constant endocardial pressure. The resulting simulation will be a reasonably realistic filling phase, followed by a less realistic ejection phase (and no isovolumic phase in between). The simulation protocol should look something like this:\n",
    "* First keep the tissue passive, and inflate the LV to a given pressure (filling phase)\n",
    "* Then, hold the pressure constant while ramping up the active stress\n",
    "\n",
    "In code, the time course of endocardial pressure and active stress will look something like:"
   ]
  },
  {
   "cell_type": "code",
   "execution_count": 26,
   "metadata": {},
   "outputs": [
    {
     "data": {
      "image/png": "[encoded data removed]",
      "text/plain": [
       "<Figure size 432x288 with 1 Axes>"
      ]
     },
     "metadata": {
      "needs_background": "light"
     },
     "output_type": "display_data"
    }
   ],
   "source": [
    "# Step-wise loading \n",
    "pressure_steps = 20\n",
    "active_steps = 20\n",
    "target_pressure = 10.0\n",
    "target_active = 40.0\n",
    "\n",
    "#first ramp up pressure, then keep constant\n",
    "filling_pressure = np.linspace(0,target_pressure,pressure_steps)\n",
    "const_pressure = np.ones(active_steps)*target_pressure\n",
    "pressures = np.concatenate((filling_pressure,const_pressure))\n",
    "\n",
    "#zero active tension during filling, then increase linearly\n",
    "active1 = np.zeros_like(filling_pressure)\n",
    "active2 = np.linspace(0,target_active, active_steps)\n",
    "active =  np.concatenate((active1, active2))\n",
    "\n",
    "plt.plot(active)\n",
    "plt.plot(pressures)\n",
    "plt.legend(['Active stress','LV pressure'])\n",
    "plt.xlabel('Time')\n",
    "plt.ylabel('Pressure/active stress')\n",
    "plt.axis([0, 40, -1, 41])\n",
    "\n",
    "plt.show()\n"
   ]
  },
  {
   "cell_type": "markdown",
   "metadata": {},
   "source": [
    "## Final assignment\n",
    "* Add the varying pressure- and active stress defined above to the LV solver. \n",
    "* What does the PV loop look like in this case? Is it as expected?\n",
    "* Optional: How can you change the solver to simulate the isovolumic contraction phase?"
   ]
  },
  {
   "cell_type": "code",
   "execution_count": 28,
   "metadata": {},
   "outputs": [
    {
     "data": {
      "image/png": "[encoded data removed]",
      "text/plain": [
       "<Figure size 432x288 with 1 Axes>"
      ]
     },
     "metadata": {
      "needs_background": "light"
     },
     "output_type": "display_data"
    }
   ],
   "source": [
    "mesh, boundary_markers, numbering, fibers = load_ellipsoid_data()\n",
    "\n",
    "V = VectorFunctionSpace(mesh,'P',1)\n",
    "\n",
    "# Redefine boundary measure, to allow integration over parts of boundary\n",
    "ds = Measure('ds',domain=mesh,subdomain_data=boundary_markers)\n",
    "\n",
    "clamp = Constant((0.0, 0.0, 0.0))\n",
    "bc = DirichletBC(V, clamp, boundary_markers, numbering[\"BASE\"])\n",
    "bcs = [bc]\n",
    "\n",
    "# Define solution u and test function v\n",
    "u = Function(V)\n",
    "v = TestFunction(V)\n",
    "\n",
    "# Define strain measures\n",
    "I = Identity(3) # the identity matrix\n",
    "F = I + grad(u) # the deformation gradient\n",
    "F = variable(F)\n",
    "\n",
    "mat = GuccioneMaterial(e1=fibers[0],e2=fibers[1],e3=fibers[2],kappa=1e3,Tactive=0.0)\n",
    "psi = mat.strain_energy(F)\n",
    "P = diff(psi,F)        # the first Piola-Kirchoff stress tensor\n",
    "\n",
    "p_endo = Constant(0.0)\n",
    "\n",
    "# Define nonlinear problem\n",
    "N = FacetNormal(mesh)\n",
    "Gext = p_endo * inner(v, det(F)*inv(F)*N) * ds(numbering[\"ENDO\"]) #endocardial pressure\n",
    "R = inner(P,grad(v))*dx + Gext \n",
    "\n",
    "# Step-wise loading (for plotting and convergence)\n",
    "pressure_steps = 20\n",
    "active_steps = 20\n",
    "target_pressure = 10.0\n",
    "target_active = 20.0\n",
    "\n",
    "#first ramp up pressure, then keep constant\n",
    "filling_pressure = np.linspace(0,target_pressure,pressure_steps)\n",
    "const_pressure = np.ones(active_steps)*target_pressure\n",
    "pressures = np.concatenate((filling_pressure,const_pressure))\n",
    "\n",
    "#zero active tension during filling, then increase linearly\n",
    "active1 = np.zeros_like(filling_pressure)\n",
    "active2 = np.linspace(0,target_active, active_steps)\n",
    "active =  np.concatenate((active1, active2))\n",
    "\n",
    "volumes = np.zeros_like(pressures)\n",
    "for step in range(pressure_steps+active_steps):\n",
    "    p_endo.assign(pressures[step])\n",
    "    mat.set_active_stress(active[step])\n",
    "    solve(R == 0, u, bcs)\n",
    "    volumes[step] = compute_cavity_volume(mesh,boundary_markers,numbering,u)\n",
    "\n",
    "plt.figure(1)\n",
    "plt.plot(volumes,pressures)\n",
    "\n",
    "plt.xlabel('Volume')\n",
    "plt.ylabel('Pressure')\n",
    "plt.axis([2.0,5.5,0.0,11.0])\n",
    "\n",
    "\n",
    "plt.show()\n"
   ]
  },
  {
   "cell_type": "code",
   "execution_count": null,
   "metadata": {
    "collapsed": true,
    "jupyter": {
     "outputs_hidden": true
    }
   },
   "outputs": [],
   "source": []
  }
 ],
 "metadata": {
  "kernelspec": {
   "display_name": "Python 3",
   "language": "python",
   "name": "python3"
  },
  "language_info": {
   "codemirror_mode": {
    "name": "ipython",
    "version": 3
   },
   "file_extension": ".py",
   "mimetype": "text/x-python",
   "name": "python",
   "nbconvert_exporter": "python",
   "pygments_lexer": "ipython3",
   "version": "3.8.10"
  },
  "nbdime-conflicts": {
   "local_diff": [
    {
     "diff": [
      {
       "diff": [
        {
         "diff": [
          {
           "key": 4,
           "op": "addrange",
           "valuelist": "10"
          },
          {
           "key": 4,
           "length": 1,
           "op": "removerange"
          }
         ],
         "key": 0,
         "op": "patch"
        }
       ],
       "key": "version",
       "op": "patch"
      }
     ],
     "key": "language_info",
     "op": "patch"
    }
   ],
   "remote_diff": [
    {
     "diff": [
      {
       "diff": [
        {
         "key": 0,
         "length": 1,
         "op": "removerange"
        }
       ],
       "key": "version",
       "op": "patch"
      }
     ],
     "key": "language_info",
     "op": "patch"
    }
   ]
  }
 },
 "nbformat": 4,
 "nbformat_minor": 4
}
