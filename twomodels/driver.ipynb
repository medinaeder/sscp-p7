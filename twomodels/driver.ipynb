{
 "cells": [
  {
   "cell_type": "markdown",
   "id": "d3d752cb-578c-4b6d-a435-a16cc6a7957d",
   "metadata": {},
   "source": [
    "# Generate numpy data files for characteristic output\n",
    "\n",
    "These models should be solved rather fast. It may be best to just have a function that calls that takes in the parameters and spits out the active tension. "
   ]
  },
  {
   "cell_type": "code",
   "execution_count": 22,
   "id": "e5877670-30a9-471d-aa58-b22b67b0e0db",
   "metadata": {},
   "outputs": [],
   "source": [
    "import numpy as np\n",
    "import matplotlib.pyplot as plt\n",
    "from scipy.integrate import odeint"
   ]
  },
  {
   "cell_type": "code",
   "execution_count": 23,
   "id": "42df904c-c02c-452d-b683-32d0f2fcfbde",
   "metadata": {},
   "outputs": [],
   "source": [
    "import land.land2017 as land\n",
    "import rice.rice_model_2008 as rice"
   ]
  },
  {
   "cell_type": "markdown",
   "id": "133a6ba8-3781-4096-8f69-09f30ab54dea",
   "metadata": {},
   "source": [
    "We want to extract the active tension from these models. When it comes to the rice model there is only one active force that we should use. The land model has two versions of an \"active\" force- Ta and Ttot. Ttot I believe includes dissipative forces due to viscosity. "
   ]
  },
  {
   "cell_type": "code",
   "execution_count": 37,
   "id": "5dfc4851-0e0d-42fe-adf5-0f6ddf6d551c",
   "metadata": {},
   "outputs": [],
   "source": [
    "t = np.linspace(0,100,101)\n",
    "Cai = np.linspace(0,10,101)\n",
    "rforce_index = rice.monitor_indices(\"active\")\n",
    "\n",
    "lforce_index = land.monitor_indices(\"Ta\") # Could also be \"Ttot\"\n",
    "lforced_index = land.monitor_indices(\"Ttot\")"
   ]
  },
  {
   "cell_type": "code",
   "execution_count": 38,
   "id": "dffd11ef-25a2-4156-8c3e-3f498547a468",
   "metadata": {},
   "outputs": [],
   "source": [
    "init = land.init_state_values()\n",
    "p = (land.init_parameter_values(),)\n",
    "s = odeint(land.rhs, init, t, p)"
   ]
  },
  {
   "cell_type": "code",
   "execution_count": 39,
   "id": "40475fcc-64c7-4c50-899f-8ad163def4ff",
   "metadata": {},
   "outputs": [],
   "source": [
    "tas = np.zeros_like(t)\n",
    "tds = np.zeros_like(t)\n",
    "for i in range(101):\n",
    "    m = land.monitor(s[i],t[-1],p[0])\n",
    "    tas[i] = m[lforce_index]\n",
    "    tds[i] = m[lforced_index]\n",
    "    "
   ]
  },
  {
   "cell_type": "code",
   "execution_count": 42,
   "id": "07c5c6da-fc2b-4d65-9821-4c095fc58fc3",
   "metadata": {},
   "outputs": [
    {
     "data": {
      "image/png": "[encoded data removed]",
      "text/plain": [
       "<Figure size 432x288 with 1 Axes>"
      ]
     },
     "metadata": {
      "needs_background": "light"
     },
     "output_type": "display_data"
    },
    {
     "data": {
      "image/png": "[encoded data removed]",
      "text/plain": [
       "<Figure size 432x288 with 1 Axes>"
      ]
     },
     "metadata": {
      "needs_background": "light"
     },
     "output_type": "display_data"
    }
   ],
   "source": [
    "plt.plot(t,tas,lw=2,label=\"Tas\")\n",
    "plt.plot(t,tds,lw=2,label=\"Tds\")\n",
    "plt.xlabel(\"time\")\n",
    "plt.ylabel(\"Force\")\n",
    "plt.legend()\n",
    "plt.figure()\n",
    "plt.plot(t,tas-tds, lw=2,label=\"Diff\")\n",
    "plt.xlabel(\"time\")\n",
    "plt.ylabel(\"Diff\");"
   ]
  },
  {
   "cell_type": "markdown",
   "id": "f9889083-5aeb-47b7-9d91-5b8ee39f7a32",
   "metadata": {},
   "source": [
    "# ARGH--- Python subdirectory structure!\n",
    "\n",
    "Currently we can only run the land model because of the annoying subdirectory import. I have to figure out how to get the hierarchies to work out."
   ]
  },
  {
   "cell_type": "code",
   "execution_count": 24,
   "id": "44513d09-8e77-42e0-af1e-151e988323c8",
   "metadata": {},
   "outputs": [
    {
     "ename": "ModuleNotFoundError",
     "evalue": "No module named 'modelparameters'",
     "output_type": "error",
     "traceback": [
      "\u001b[0;31m---------------------------------------------------------------------------\u001b[0m",
      "\u001b[0;31mModuleNotFoundError\u001b[0m                       Traceback (most recent call last)",
      "\u001b[0;32m<ipython-input-24-fb3dffaff9c3>\u001b[0m in \u001b[0;36m<module>\u001b[0;34m\u001b[0m\n\u001b[1;32m      1\u001b[0m \u001b[0mSL\u001b[0m \u001b[0;34m=\u001b[0m \u001b[0;36m1.85\u001b[0m\u001b[0;34m\u001b[0m\u001b[0;34m\u001b[0m\u001b[0m\n\u001b[0;32m----> 2\u001b[0;31m \u001b[0minit\u001b[0m \u001b[0;34m=\u001b[0m \u001b[0mrice\u001b[0m\u001b[0;34m.\u001b[0m\u001b[0minit_state_values\u001b[0m\u001b[0;34m(\u001b[0m\u001b[0mSL\u001b[0m\u001b[0;34m=\u001b[0m\u001b[0mSL\u001b[0m\u001b[0;34m)\u001b[0m\u001b[0;34m\u001b[0m\u001b[0;34m\u001b[0m\u001b[0m\n\u001b[0m\u001b[1;32m      3\u001b[0m \u001b[0mp\u001b[0m \u001b[0;34m=\u001b[0m \u001b[0;34m(\u001b[0m\u001b[0mrice\u001b[0m\u001b[0;34m.\u001b[0m\u001b[0minit_parameter_values\u001b[0m\u001b[0;34m(\u001b[0m\u001b[0mstart_time\u001b[0m\u001b[0;34m=\u001b[0m\u001b[0;36m1000\u001b[0m\u001b[0;34m,\u001b[0m\u001b[0mCa_diastolic\u001b[0m\u001b[0;34m=\u001b[0m\u001b[0;36m0\u001b[0m\u001b[0;34m,\u001b[0m\u001b[0mSLmin\u001b[0m\u001b[0;34m=\u001b[0m\u001b[0;36m2.5\u001b[0m\u001b[0;34m)\u001b[0m\u001b[0;34m,\u001b[0m\u001b[0;34m)\u001b[0m\u001b[0;34m\u001b[0m\u001b[0;34m\u001b[0m\u001b[0m\n\u001b[1;32m      4\u001b[0m \u001b[0ms\u001b[0m \u001b[0;34m=\u001b[0m \u001b[0modeint\u001b[0m\u001b[0;34m(\u001b[0m\u001b[0mrice\u001b[0m\u001b[0;34m.\u001b[0m\u001b[0mrhs\u001b[0m\u001b[0;34m,\u001b[0m\u001b[0minit\u001b[0m\u001b[0;34m,\u001b[0m\u001b[0mt\u001b[0m\u001b[0;34m,\u001b[0m\u001b[0mp\u001b[0m\u001b[0;34m)\u001b[0m\u001b[0;34m\u001b[0m\u001b[0;34m\u001b[0m\u001b[0m\n\u001b[1;32m      5\u001b[0m \u001b[0;34m\u001b[0m\u001b[0m\n",
      "\u001b[0;32m~/Project7/sscp-p7/twomodels/rice/rice_model_2008.py\u001b[0m in \u001b[0;36minit_state_values\u001b[0;34m(**values)\u001b[0m\n\u001b[1;32m      8\u001b[0m     \u001b[0;31m# Imports\u001b[0m\u001b[0;34m\u001b[0m\u001b[0;34m\u001b[0m\u001b[0;34m\u001b[0m\u001b[0m\n\u001b[1;32m      9\u001b[0m     \u001b[0;32mimport\u001b[0m \u001b[0mnumpy\u001b[0m \u001b[0;32mas\u001b[0m \u001b[0mnp\u001b[0m\u001b[0;34m\u001b[0m\u001b[0;34m\u001b[0m\u001b[0m\n\u001b[0;32m---> 10\u001b[0;31m     \u001b[0;32mfrom\u001b[0m \u001b[0mmodelparameters\u001b[0m\u001b[0;34m.\u001b[0m\u001b[0mutils\u001b[0m \u001b[0;32mimport\u001b[0m \u001b[0mRange\u001b[0m\u001b[0;34m\u001b[0m\u001b[0;34m\u001b[0m\u001b[0m\n\u001b[0m\u001b[1;32m     11\u001b[0m \u001b[0;34m\u001b[0m\u001b[0m\n\u001b[1;32m     12\u001b[0m     \u001b[0;31m# Init values\u001b[0m\u001b[0;34m\u001b[0m\u001b[0;34m\u001b[0m\u001b[0;34m\u001b[0m\u001b[0m\n",
      "\u001b[0;31mModuleNotFoundError\u001b[0m: No module named 'modelparameters'"
     ]
    }
   ],
   "source": [
    "\n",
    "\n",
    "SL = 1.85\n",
    "init = rice.init_state_values(SL=SL)\n",
    "p = (rice.init_parameter_values(start_time=1000,Ca_diastolic=0,SLmin=2.5),)\n",
    "s = odeint(rice.rhs,init,t,p)\n",
    "    \n",
    "    "
   ]
  },
  {
   "cell_type": "code",
   "execution_count": null,
   "id": "7f468a76-25d7-4b3f-b7e5-380fd443ca05",
   "metadata": {},
   "outputs": [],
   "source": []
  },
  {
   "cell_type": "code",
   "execution_count": null,
   "id": "314c0c44-8619-46eb-a744-f5c5ef3cfe45",
   "metadata": {},
   "outputs": [],
   "source": [
    "m = rice.monitor(s[-1],t[-1],p[0])\n",
    "Fss[i] = m[force_index]\n"
   ]
  }
 ],
 "metadata": {
  "kernelspec": {
   "display_name": "Python 3",
   "language": "python",
   "name": "python3"
  },
  "language_info": {
   "codemirror_mode": {
    "name": "ipython",
    "version": 3
   },
   "file_extension": ".py",
   "mimetype": "text/x-python",
   "name": "python",
   "nbconvert_exporter": "python",
   "pygments_lexer": "ipython3",
   "version": "3.8.10"
  }
 },
 "nbformat": 4,
 "nbformat_minor": 5
}
