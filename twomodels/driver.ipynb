{
 "cells": [
  {
   "cell_type": "markdown",
   "id": "d3d752cb-578c-4b6d-a435-a16cc6a7957d",
   "metadata": {},
   "source": [
    "# Generate numpy data files for characteristic output\n",
    "\n",
    "These models should be solved rather fast. It may be best to just have a function that calls that takes in the parameters and spits out the active tension. "
   ]
  },
  {
   "cell_type": "code",
   "execution_count": 1,
   "id": "e5877670-30a9-471d-aa58-b22b67b0e0db",
   "metadata": {},
   "outputs": [],
   "source": [
    "import numpy as np\n",
    "import matplotlib.pyplot as plt\n",
    "from scipy.integrate import odeint"
   ]
  },
  {
   "cell_type": "code",
   "execution_count": 2,
   "id": "42df904c-c02c-452d-b683-32d0f2fcfbde",
   "metadata": {},
   "outputs": [],
   "source": [
    "import land.land2017 as land\n",
    "import rice.rice_model_2008 as rice"
   ]
  },
  {
   "cell_type": "markdown",
   "id": "133a6ba8-3781-4096-8f69-09f30ab54dea",
   "metadata": {},
   "source": [
    "We want to extract the active tension from these models. When it comes to the rice model there is only one active force that we should use. The land model has two versions of an \"active\" force- Ta and Ttot. Ttot I believe includes dissipative forces due to viscosity. "
   ]
  },
  {
   "cell_type": "code",
   "execution_count": 3,
   "id": "5dfc4851-0e0d-42fe-adf5-0f6ddf6d551c",
   "metadata": {},
   "outputs": [
    {
     "name": "stdout",
     "output_type": "stream",
     "text": [
      "13\n"
     ]
    }
   ],
   "source": [
    "t = np.linspace(0,100,101)\n",
    "Cai = np.linspace(0,10,101)\n",
    "rforce_index = rice.monitor_indices(\"active\")\n",
    "\n",
    "lforce_index = land.monitor_indices(\"Ta\") # Could also be \"Ttot\""
   ]
  },
  {
   "cell_type": "code",
   "execution_count": null,
   "id": "44513d09-8e77-42e0-af1e-151e988323c8",
   "metadata": {},
   "outputs": [],
   "source": [
    "init = rice.init_state_values(SL=SL)\n",
    "Fss = np.empty_like(Cai)\n",
    "for i in range(len(Cai)):\n",
    "    p = (rice.init_parameter_values(start_time=1000,Ca_diastolic=Cai[i],SLmin=2.5),)\n",
    "    s = odeint(rice.rhs,init,t,p)\n",
    "    m = rice.monitor(s[-1],t[-1],p[0])\n",
    "    Fss[i] = m[force_index]\n"
   ]
  }
 ],
 "metadata": {
  "kernelspec": {
   "display_name": "Python 3",
   "language": "python",
   "name": "python3"
  },
  "language_info": {
   "codemirror_mode": {
    "name": "ipython",
    "version": 3
   },
   "file_extension": ".py",
   "mimetype": "text/x-python",
   "name": "python",
   "nbconvert_exporter": "python",
   "pygments_lexer": "ipython3",
   "version": "3.8.10"
  }
 },
 "nbformat": 4,
 "nbformat_minor": 5
}
